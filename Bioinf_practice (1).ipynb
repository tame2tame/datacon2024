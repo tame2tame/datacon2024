{
  "nbformat": 4,
  "nbformat_minor": 0,
  "metadata": {
    "colab": {
      "provenance": []
    },
    "kernelspec": {
      "name": "python3",
      "display_name": "Python 3"
    },
    "language_info": {
      "name": "python"
    }
  },
  "cells": [
    {
      "cell_type": "markdown",
      "source": [
        "# Работа с последовательностями в Python\n",
        "В этом ноутбуке мы рассмотрим, как использовать Python для работы с биологическими последовательностями. Мы познакомимся с основными библиотеками и инструментами, которые помогут нам анализировать и манипулировать ДНК, РНК и белковыми последовательностями.\n",
        "\n",
        "Ноутбук состоит из нескольких разделов, каждый из которых посвящен определенной библиотеке или инструменту.\n",
        "Мы рассмотрим их основные функции и методы, а также приведем примеры кода для практического применения."
      ],
      "metadata": {
        "id": "20KeJo0sFyPC"
      }
    },
    {
      "cell_type": "code",
      "execution_count": 4,
      "metadata": {
        "colab": {
          "base_uri": "https://localhost:8080/"
        },
        "id": "Sy8bJU3PFR9W",
        "outputId": "2da8fdd3-5303-4561-91a5-aabbebc23512"
      },
      "outputs": [
        {
          "output_type": "stream",
          "name": "stdout",
          "text": [
            "Requirement already satisfied: biopython in /usr/local/lib/python3.10/dist-packages (1.84)\n",
            "Requirement already satisfied: scikit-bio in /usr/local/lib/python3.10/dist-packages (0.6.2)\n",
            "Requirement already satisfied: pysam in /usr/local/lib/python3.10/dist-packages (0.22.1)\n",
            "Requirement already satisfied: forgi in /usr/local/lib/python3.10/dist-packages (2.2.3)\n",
            "Requirement already satisfied: requests in /usr/local/lib/python3.10/dist-packages (2.31.0)\n",
            "Requirement already satisfied: pybiomed in /usr/local/lib/python3.10/dist-packages (1.0)\n",
            "Requirement already satisfied: repDNA in /usr/local/lib/python3.10/dist-packages (1.1.4)\n",
            "Requirement already satisfied: numpy in /usr/local/lib/python3.10/dist-packages (from biopython) (1.25.2)\n",
            "Requirement already satisfied: decorator>=3.4.2 in /usr/local/lib/python3.10/dist-packages (from scikit-bio) (4.4.2)\n",
            "Requirement already satisfied: natsort>=4.0.3 in /usr/local/lib/python3.10/dist-packages (from scikit-bio) (8.4.0)\n",
            "Requirement already satisfied: pandas>=1.5.0 in /usr/local/lib/python3.10/dist-packages (from scikit-bio) (2.0.3)\n",
            "Requirement already satisfied: scipy>=1.9.0 in /usr/local/lib/python3.10/dist-packages (from scikit-bio) (1.11.4)\n",
            "Requirement already satisfied: h5py>=3.6.0 in /usr/local/lib/python3.10/dist-packages (from scikit-bio) (3.9.0)\n",
            "Requirement already satisfied: biom-format>=2.1.16 in /usr/local/lib/python3.10/dist-packages (from scikit-bio) (2.1.16)\n",
            "Requirement already satisfied: statsmodels>=0.14.0 in /usr/local/lib/python3.10/dist-packages (from scikit-bio) (0.14.2)\n",
            "Requirement already satisfied: future in /usr/local/lib/python3.10/dist-packages (from forgi) (0.18.3)\n",
            "Requirement already satisfied: networkx>=2.0 in /usr/local/lib/python3.10/dist-packages (from forgi) (3.3)\n",
            "Requirement already satisfied: appdirs>=1.4 in /usr/local/lib/python3.10/dist-packages (from forgi) (1.4.4)\n",
            "Requirement already satisfied: logging-exceptions>=0.1.9 in /usr/local/lib/python3.10/dist-packages (from forgi) (0.1.9)\n",
            "Requirement already satisfied: cython in /usr/local/lib/python3.10/dist-packages (from forgi) (3.0.10)\n",
            "Requirement already satisfied: charset-normalizer<4,>=2 in /usr/local/lib/python3.10/dist-packages (from requests) (3.3.2)\n",
            "Requirement already satisfied: idna<4,>=2.5 in /usr/local/lib/python3.10/dist-packages (from requests) (3.7)\n",
            "Requirement already satisfied: urllib3<3,>=1.21.1 in /usr/local/lib/python3.10/dist-packages (from requests) (2.0.7)\n",
            "Requirement already satisfied: certifi>=2017.4.17 in /usr/local/lib/python3.10/dist-packages (from requests) (2024.7.4)\n",
            "Requirement already satisfied: click in /usr/local/lib/python3.10/dist-packages (from biom-format>=2.1.16->scikit-bio) (8.1.7)\n",
            "Requirement already satisfied: python-dateutil>=2.8.2 in /usr/local/lib/python3.10/dist-packages (from pandas>=1.5.0->scikit-bio) (2.8.2)\n",
            "Requirement already satisfied: pytz>=2020.1 in /usr/local/lib/python3.10/dist-packages (from pandas>=1.5.0->scikit-bio) (2023.4)\n",
            "Requirement already satisfied: tzdata>=2022.1 in /usr/local/lib/python3.10/dist-packages (from pandas>=1.5.0->scikit-bio) (2024.1)\n",
            "Requirement already satisfied: patsy>=0.5.6 in /usr/local/lib/python3.10/dist-packages (from statsmodels>=0.14.0->scikit-bio) (0.5.6)\n",
            "Requirement already satisfied: packaging>=21.3 in /usr/local/lib/python3.10/dist-packages (from statsmodels>=0.14.0->scikit-bio) (24.1)\n",
            "Requirement already satisfied: six in /usr/local/lib/python3.10/dist-packages (from patsy>=0.5.6->statsmodels>=0.14.0->scikit-bio) (1.16.0)\n"
          ]
        }
      ],
      "source": [
        "# Установка библиотек\n",
        "!pip install biopython scikit-bio pysam forgi requests pybiomed repDNA"
      ]
    },
    {
      "cell_type": "markdown",
      "source": [
        "## Раздел 1: Biopython\n",
        "Biopython - одна из самых популярных библиотек для работы с биологическими последовательностями в Python. Она предоставляет множество функций для чтения, записи и анализа последовательностей ДНК, РНК и белков.\n",
        "\n",
        "В этом разделе мы рассмотрим основные методы Biopython, такие как ***SeqIO.write(), SeqIO.parse(), GC(), transcribe(), back_transcribe() и translate()***. Эти методы помогут нам эффективно работать с биологическими данными."
      ],
      "metadata": {
        "id": "F32kdsIeH6Oj"
      }
    },
    {
      "cell_type": "code",
      "source": [
        "# Импорт необходимых модулей\n",
        "from Bio import SeqIO\n",
        "from Bio.Seq import Seq\n",
        "from Bio.SeqRecord import SeqRecord\n",
        "from Bio.SeqUtils import gc_fraction"
      ],
      "metadata": {
        "id": "O7dBF5eVHeW2"
      },
      "execution_count": 3,
      "outputs": []
    },
    {
      "cell_type": "code",
      "source": [
        "# Создание последовательности и запись в файл\n",
        "seq = Seq(\"AGTACACTGGT\")\n",
        "record = SeqRecord(seq, id=\"example\", description=\"Example sequence\")\n",
        "SeqIO.write(record, \"example.fasta\", \"fasta\")"
      ],
      "metadata": {
        "colab": {
          "base_uri": "https://localhost:8080/"
        },
        "id": "C79ly01qLVrJ",
        "outputId": "5d805b7d-cf29-4c2d-8027-b364e679f5ca"
      },
      "execution_count": 4,
      "outputs": [
        {
          "output_type": "execute_result",
          "data": {
            "text/plain": [
              "1"
            ]
          },
          "metadata": {},
          "execution_count": 4
        }
      ]
    },
    {
      "cell_type": "code",
      "source": [
        "# Чтение последовательностей из файла\n",
        "for record in SeqIO.parse(\"example.fasta\", \"fasta\"):\n",
        "    print(record.id)\n",
        "    print(record.seq)"
      ],
      "metadata": {
        "colab": {
          "base_uri": "https://localhost:8080/"
        },
        "id": "xwbZZvCRLZH2",
        "outputId": "89a9da79-244e-4855-d395-0b570e296c14"
      },
      "execution_count": 5,
      "outputs": [
        {
          "output_type": "stream",
          "name": "stdout",
          "text": [
            "example\n",
            "AGTACACTGGT\n"
          ]
        }
      ]
    },
    {
      "cell_type": "code",
      "source": [
        "# Расчет GC-содержания\n",
        "gc_content = gc_fraction(record.seq)\n",
        "print(f\"GC-content: {gc_content}%\")"
      ],
      "metadata": {
        "colab": {
          "base_uri": "https://localhost:8080/"
        },
        "id": "OoSmDMUqLbRj",
        "outputId": "bcf66f21-f821-4306-a15c-6ce27df465ac"
      },
      "execution_count": 6,
      "outputs": [
        {
          "output_type": "stream",
          "name": "stdout",
          "text": [
            "GC-content: 0.45454545454545453%\n"
          ]
        }
      ]
    },
    {
      "cell_type": "code",
      "source": [
        "# Транскрипция ДНК в РНК\n",
        "rna_seq = record.seq.transcribe()\n",
        "print(f\"RNA sequence: {rna_seq}\")"
      ],
      "metadata": {
        "colab": {
          "base_uri": "https://localhost:8080/"
        },
        "id": "-rxAqxtnLdiX",
        "outputId": "10587faf-446a-4d8f-8056-a2a8f16da582"
      },
      "execution_count": 7,
      "outputs": [
        {
          "output_type": "stream",
          "name": "stdout",
          "text": [
            "RNA sequence: AGUACACUGGU\n"
          ]
        }
      ]
    },
    {
      "cell_type": "code",
      "source": [
        "# Обратная транскрипция РНК в ДНК\n",
        "back_to_dna = rna_seq.back_transcribe()\n",
        "print(f\"Back to DNA: {back_to_dna}\")"
      ],
      "metadata": {
        "colab": {
          "base_uri": "https://localhost:8080/"
        },
        "id": "E14szbxALf56",
        "outputId": "c5b7eece-ac22-4a90-8d7f-55569d7033e6"
      },
      "execution_count": 8,
      "outputs": [
        {
          "output_type": "stream",
          "name": "stdout",
          "text": [
            "Back to DNA: AGTACACTGGT\n"
          ]
        }
      ]
    },
    {
      "cell_type": "code",
      "source": [
        "# Трансляция ДНК в белок\n",
        "protein_seq = record.seq.translate()\n",
        "print(f\"Protein sequence: {protein_seq}\")"
      ],
      "metadata": {
        "colab": {
          "base_uri": "https://localhost:8080/"
        },
        "id": "zSj8QMacLhun",
        "outputId": "d92769cb-abf8-48c6-8e57-7a5cae697450"
      },
      "execution_count": 9,
      "outputs": [
        {
          "output_type": "stream",
          "name": "stdout",
          "text": [
            "Protein sequence: STL\n"
          ]
        },
        {
          "output_type": "stream",
          "name": "stderr",
          "text": [
            "/usr/local/lib/python3.10/dist-packages/Bio/Seq.py:2879: BiopythonWarning: Partial codon, len(sequence) not a multiple of three. Explicitly trim the sequence or add trailing N before translation. This may become an error in future.\n",
            "  warnings.warn(\n"
          ]
        }
      ]
    },
    {
      "cell_type": "markdown",
      "source": [
        "## Раздел 2: Scikit-bio\n",
        "\n",
        "Scikit-bio - это мощная библиотека для биоинформатического анализа, которая предоставляет инструменты для работы с последовательностями, филогенетикой и статистикой.\n",
        "\n",
        "В этом разделе мы изучим, как использовать Scikit-bio для создания объектов последовательностей ДНК, РНК и белков, выполнения локального попарного выравнивания, вычисления расстояний между последовательностями и работы с филогенетическими деревьями.\n"
      ],
      "metadata": {
        "id": "x4DJnPC7Iak9"
      }
    },
    {
      "cell_type": "code",
      "source": [
        "import skbio\n",
        "from skbio import DNA, RNA, Protein\n",
        "from skbio.sequence.distance import hamming"
      ],
      "metadata": {
        "id": "T2wUajCHIkZ5"
      },
      "execution_count": 10,
      "outputs": []
    },
    {
      "cell_type": "code",
      "source": [
        "# Создание последовательностей ДНК, РНК и белка\n",
        "dna_sequence1 = DNA(\"ACGTACGTGACG\")\n",
        "dna_sequence2 = DNA(\"TTACGTGGCATG\")\n",
        "rna_sequence = RNA(\"ACGUACGUGACG\")\n",
        "protein_sequence = Protein(\"MTEYKLVVVGAGGVGKSALTIQLIQNHFVDEYDPTIEDSYRKQVVIDGETCLLDILDTAG\")\n",
        "\n",
        "print(dna_sequence1)\n",
        "print(rna_sequence)\n",
        "print(protein_sequence)"
      ],
      "metadata": {
        "colab": {
          "base_uri": "https://localhost:8080/"
        },
        "id": "NoooBwzjLlYu",
        "outputId": "3b7832ce-1192-4ff2-c02d-394c685a714b"
      },
      "execution_count": 11,
      "outputs": [
        {
          "output_type": "stream",
          "name": "stdout",
          "text": [
            "ACGTACGTGACG\n",
            "ACGUACGUGACG\n",
            "MTEYKLVVVGAGGVGKSALTIQLIQNHFVDEYDPTIEDSYRKQVVIDGETCLLDILDTAG\n"
          ]
        }
      ]
    },
    {
      "cell_type": "code",
      "source": [
        "# Выравнивание последовательностей\n",
        "alignment = skbio.alignment.local_pairwise_align_ssw(dna_sequence1, dna_sequence2)\n",
        "print(alignment)"
      ],
      "metadata": {
        "colab": {
          "base_uri": "https://localhost:8080/"
        },
        "id": "iWXR2YViLnfc",
        "outputId": "68f67104-1102-4c38-d912-f8da7749f666"
      },
      "execution_count": 12,
      "outputs": [
        {
          "output_type": "stream",
          "name": "stdout",
          "text": [
            "(TabularMSA[DNA]\n",
            "---------------------\n",
            "Stats:\n",
            "    sequence count: 2\n",
            "    position count: 6\n",
            "---------------------\n",
            "TACGTG\n",
            "TACGTG, 12, [(3, 8), (1, 6)])\n"
          ]
        },
        {
          "output_type": "stream",
          "name": "stderr",
          "text": [
            "/usr/local/lib/python3.10/dist-packages/skbio/util/_warning.py:56: DeprecationWarning: local_pairwise_align_ssw is deprecated as of 0.5.8. It will be removed in favor of more general purpose and performant aligners. Additional details at https://github.com/scikit-bio/scikit-bio/issues/1814.\n",
            "  warn(\n"
          ]
        }
      ]
    },
    {
      "cell_type": "code",
      "source": [
        "# Расчет расстояния Хэмминга между двумя последовательностями ДНК\n",
        "dna_seq1 = DNA(\"ACGTACGTGACG\")\n",
        "dna_seq2 = DNA(\"ACGTACGTGACC\")\n",
        "hamming_distance = dna_seq1.distance(dna_seq2, metric=hamming)\n",
        "print(f\"Hamming distance: {hamming_distance}\")"
      ],
      "metadata": {
        "colab": {
          "base_uri": "https://localhost:8080/"
        },
        "id": "sl2nsDd9LptB",
        "outputId": "0d7f9ceb-64dc-4695-f3b8-ad94533be9bf"
      },
      "execution_count": 13,
      "outputs": [
        {
          "output_type": "stream",
          "name": "stdout",
          "text": [
            "Hamming distance: 0.08333333333333333\n"
          ]
        }
      ]
    },
    {
      "cell_type": "code",
      "source": [
        "# Филогенетический анализ\n",
        "tree = skbio.tree.TreeNode.read([ \"(A,B,(C,D));\" ])\n",
        "print(tree.ascii_art())"
      ],
      "metadata": {
        "colab": {
          "base_uri": "https://localhost:8080/"
        },
        "id": "q-27kBFsLren",
        "outputId": "ee2dc288-bf94-47ad-9425-9a65a7402772"
      },
      "execution_count": 14,
      "outputs": [
        {
          "output_type": "stream",
          "name": "stdout",
          "text": [
            "          /-A\n",
            "         |\n",
            "---------|--B\n",
            "         |\n",
            "         |          /-C\n",
            "          \\--------|\n",
            "                    \\-D\n"
          ]
        }
      ]
    },
    {
      "cell_type": "markdown",
      "source": [
        "## Раздел 3: Bioconda\n",
        "\n",
        "Bioconda - это репозиторий пакетов для биоинформатики, который позволяет легко устанавливать и управлять биоинформатическими инструментами с помощью Conda.\n",
        "\n",
        "В этом разделе мы рассмотрим, как использовать Bioconda для установки таких библиотек, как Biopython, Scikit-bio, Pysam и Forgi. Это позволит нам быстро настроить рабочую среду для анализа биологических данных.\n"
      ],
      "metadata": {
        "id": "qA3aXBsyIkzB"
      }
    },
    {
      "cell_type": "code",
      "source": [
        "# Установка Biopython через Bioconda\n",
        "!conda install biopython\n",
        "\n",
        "# Установка Scikit-bio через Bioconda\n",
        "!conda install scikit-bio\n",
        "\n",
        "# Установка Pysam через Bioconda\n",
        "!conda install pysam\n",
        "\n",
        "# Установка Forgi через Bioconda\n",
        "!conda install forgi"
      ],
      "metadata": {
        "id": "aUian7FeIyAA"
      },
      "execution_count": null,
      "outputs": []
    },
    {
      "cell_type": "markdown",
      "source": [
        "## Раздел 4: Pysam\n",
        "\n",
        "Pysam - это библиотека для работы с файлами BAM/SAM, которые содержат выровненные данные секвенирования.\n",
        "\n",
        "В этом разделе мы изучим, как открывать файлы BAM/SAM, читать выравнивания и анализировать данные секвенирования с помощью методов AlignmentFile() и fetch(). Это поможет нам работать с большими объемами данных секвенирования и извлекать из них полезную информацию.\n"
      ],
      "metadata": {
        "id": "ga8nmRtpIyYT"
      }
    },
    {
      "cell_type": "code",
      "source": [
        "import pysam"
      ],
      "metadata": {
        "id": "gv9oHl3xI6sA"
      },
      "execution_count": 16,
      "outputs": []
    },
    {
      "cell_type": "code",
      "source": [
        "# Открытие файла BAM\n",
        "bamfile = pysam.AlignmentFile(\"example.bam\", \"rb\")\n",
        "\n",
        "# Создание индексного файла\n",
        "pysam.index(\"example.bam\")"
      ],
      "metadata": {
        "id": "SL2yFLrJpjYl"
      },
      "execution_count": null,
      "outputs": []
    },
    {
      "cell_type": "code",
      "source": [
        "# Чтение выравниваний из проиндексированного BAM файла\n",
        "for read in bamfile.fetch():\n",
        "    print(read)"
      ],
      "metadata": {
        "colab": {
          "base_uri": "https://localhost:8080/"
        },
        "id": "mHC0sg4kLunL",
        "outputId": "d8d06437-ccc1-4b2b-9ff6-2aaea248b825"
      },
      "execution_count": 18,
      "outputs": [
        {
          "output_type": "stream",
          "name": "stdout",
          "text": [
            "HWI-ST216_0121:5:5:10367:4149#0\t0\t#13\t3003092\t0\t29M\t*\t0\t0\tTTTTTTTTTTTTTTTTTTGTTTCACTCCC\tarray('B', [37, 30, 36, 38, 36, 38, 38, 38, 37, 36, 38, 38, 38, 38, 38, 38, 35, 2, 2, 2, 2, 2, 2, 2, 2, 2, 2, 2, 2])\t[('NM', 2), ('NH', 29), ('CC', '='), ('CP', 77453836)]\n",
            "HWI-ST216_0121:5:23:5662:111777#0\t0\t#13\t3003095\t0\t29M\t*\t0\t0\tTTTTTTTTTTTTTTTTTTTAACACCCTTT\tarray('B', [38, 38, 38, 38, 37, 36, 38, 36, 38, 37, 38, 37, 38, 37, 36, 37, 37, 37, 2, 2, 2, 2, 2, 2, 2, 2, 2, 2, 2])\t[('NM', 2), ('NH', 28), ('CC', '='), ('CP', 48389710)]\n",
            "HWI-ST216_0121:5:45:14636:168630#0\t0\t#13\t3003095\t0\t29M\t*\t0\t0\tTTTTTTTTTTTTTTTTTTTAACACCCTTT\tarray('B', [39, 39, 39, 39, 38, 39, 39, 39, 39, 36, 39, 39, 39, 39, 39, 39, 38, 2, 2, 2, 2, 2, 2, 2, 2, 2, 2, 2, 2])\t[('NM', 2), ('NH', 28), ('CC', '='), ('CP', 48389710)]\n",
            "HWI-ST216_0121:5:48:12224:170948#0\t0\t#13\t3003095\t0\t29M\t*\t0\t0\tTTTTTTTTTTTTTTTTTTTAACTCGCTTT\tarray('B', [14, 25, 33, 28, 29, 30, 30, 27, 28, 33, 2, 2, 2, 2, 2, 2, 2, 2, 2, 2, 2, 2, 2, 2, 2, 2, 2, 2, 2])\t[('NM', 2), ('NH', 36), ('CC', '='), ('CP', 39652094)]\n",
            "HWI-ST216_0121:5:4:9863:151345#0\t0\t#13\t3003095\t0\t29M\t*\t0\t0\tTTTTTTTTTTTTTTTTTTTCACTCCCTTT\tarray('B', [33, 31, 31, 33, 33, 33, 33, 33, 33, 33, 29, 33, 33, 30, 2, 2, 2, 2, 2, 2, 2, 2, 2, 2, 2, 2, 2, 2, 2])\t[('NM', 2), ('NH', 31), ('CC', '='), ('CP', 28546314)]\n",
            "HWI-ST216_0121:5:28:15940:199391#0\t0\t#13\t3003096\t0\t29M\t*\t0\t0\tTTTTTTTTTTTTTTTTTTACCTCCCTTTT\tarray('B', [39, 38, 39, 39, 39, 39, 39, 39, 38, 39, 36, 39, 39, 38, 38, 38, 36, 2, 2, 2, 2, 2, 2, 2, 2, 2, 2, 2, 2])\t[('NM', 2), ('NH', 15), ('CC', '='), ('CP', 136241963)]\n",
            "HWI-ST216_0121:5:41:12187:34395#0\t0\t#13\t3003096\t0\t29M\t*\t0\t0\tTTTTTTTTTTTTTTTTTTAACACCCTTTT\tarray('B', [38, 38, 38, 38, 38, 38, 38, 38, 38, 38, 38, 38, 38, 37, 38, 38, 33, 36, 22, 35, 20, 32, 35, 30, 2, 2, 2, 2, 2])\t[('NM', 2), ('NH', 12), ('CC', '='), ('CP', 48389709)]\n",
            "HWI-ST216_0121:5:45:4338:185998#0\t0\t#13\t3003096\t3\t29M\t*\t0\t0\tTTTTTTTTTTTTTTTTTTAACTCCCTTTT\tarray('B', [39, 39, 39, 39, 39, 38, 39, 36, 38, 39, 38, 39, 38, 38, 38, 38, 38, 34, 2, 2, 2, 2, 2, 2, 2, 2, 2, 2, 2])\t[('NM', 1), ('NH', 2), ('CC', 'chr19'), ('CP', 24169574)]\n",
            "HWI-ST216_0121:5:64:1818:146249#0\t0\t#13\t3003096\t0\t29M\t*\t0\t0\tTTTTTTTTTTTTTTTTTTAACCCCCTTTT\tarray('B', [37, 37, 37, 37, 37, 37, 37, 37, 37, 37, 37, 37, 37, 37, 37, 37, 2, 2, 2, 2, 2, 2, 2, 2, 2, 2, 2, 2, 2])\t[('NM', 2), ('NH', 9), ('CC', 'chr14'), ('CP', 30256405)]\n"
          ]
        }
      ]
    },
    {
      "cell_type": "code",
      "source": [
        "# Получение статистики по файлу BAM\n",
        "print(bamfile.mapped)  # Количество выровненных ридов\n",
        "print(bamfile.unmapped)  # Количество невыровненных ридов"
      ],
      "metadata": {
        "colab": {
          "base_uri": "https://localhost:8080/"
        },
        "id": "XEeWdm2BLwuP",
        "outputId": "e2805353-79fa-442e-c31c-114d0c65fb4f"
      },
      "execution_count": 19,
      "outputs": [
        {
          "output_type": "stream",
          "name": "stdout",
          "text": [
            "9\n",
            "0\n"
          ]
        }
      ]
    },
    {
      "cell_type": "code",
      "source": [
        "# Получение информации о конкретном риде\n",
        "read = next(bamfile.fetch())\n",
        "print(read.query_name)\n",
        "print(read.reference_start)\n",
        "print(read.cigarstring)"
      ],
      "metadata": {
        "colab": {
          "base_uri": "https://localhost:8080/"
        },
        "id": "WkfYOl2sLzPO",
        "outputId": "8bdf3a78-ea83-4066-fc9a-9b640ad71fdf"
      },
      "execution_count": 20,
      "outputs": [
        {
          "output_type": "stream",
          "name": "stdout",
          "text": [
            "HWI-ST216_0121:5:5:10367:4149#0\n",
            "3003091\n",
            "29M\n"
          ]
        }
      ]
    },
    {
      "cell_type": "markdown",
      "source": [
        "## Раздел 5: Forgi\n",
        "\n",
        "Forgi - это библиотека для анализа вторичной структуры РНК.\n",
        "\n",
        "В этом разделе мы рассмотрим, как использовать Forgi для загрузки структур РНК из файлов CT (Connectivity Table) и анализа их вторичной структуры. Это позволит нам визуализировать и исследовать структуры РНК на молекулярном уровне.\n",
        "\n"
      ],
      "metadata": {
        "id": "aqJpVAkjI7Dz"
      }
    },
    {
      "cell_type": "code",
      "source": [
        "!pip install viennarna"
      ],
      "metadata": {
        "id": "xXI5cbF6X0BV",
        "colab": {
          "base_uri": "https://localhost:8080/"
        },
        "outputId": "c917fa93-e770-4dea-9cc0-136c62265cea"
      },
      "execution_count": 25,
      "outputs": [
        {
          "output_type": "stream",
          "name": "stdout",
          "text": [
            "Collecting viennarna\n",
            "  Downloading ViennaRNA-2.6.4-cp310-cp310-manylinux_2_17_x86_64.manylinux2014_x86_64.whl (12.1 MB)\n",
            "\u001b[2K     \u001b[90m━━━━━━━━━━━━━━━━━━━━━━━━━━━━━━━━━━━━━━━━\u001b[0m \u001b[32m12.1/12.1 MB\u001b[0m \u001b[31m44.0 MB/s\u001b[0m eta \u001b[36m0:00:00\u001b[0m\n",
            "\u001b[?25hInstalling collected packages: viennarna\n",
            "Successfully installed viennarna-2.6.4\n"
          ]
        }
      ]
    },
    {
      "cell_type": "code",
      "source": [
        "import forgi.visual.mplotlib as fvm\n",
        "import forgi\n",
        "import matplotlib.pyplot as plt"
      ],
      "metadata": {
        "id": "doxVREGhJPAy"
      },
      "execution_count": 21,
      "outputs": []
    },
    {
      "cell_type": "code",
      "source": [
        "# Загрузка структуры RNA из файла PDB\n",
        "rna_structure = forgi.load_rna(\"example.pdb\")"
      ],
      "metadata": {
        "id": "ZNBuB88rXTDB"
      },
      "execution_count": 22,
      "outputs": []
    },
    {
      "cell_type": "code",
      "source": [
        "# Проверка типа возвращаемого значения\n",
        "if isinstance(rna_structure, list):\n",
        "    rna_structure = rna_structure[0]  # Используем первую структуру из списка"
      ],
      "metadata": {
        "id": "HEHFzwOFYfFu"
      },
      "execution_count": 23,
      "outputs": []
    },
    {
      "cell_type": "code",
      "source": [
        "# Визуализация структуры RNA\n",
        "fig, ax = plt.subplots()\n",
        "fvm.plot_rna(rna_structure, text_kwargs={\"fontsize\": 8}, ax=ax)\n",
        "plt.show()"
      ],
      "metadata": {
        "colab": {
          "base_uri": "https://localhost:8080/",
          "height": 745
        },
        "id": "-Rkzi412Xctk",
        "outputId": "3bca25df-0f83-475c-bfb9-bc1347a75bdc"
      },
      "execution_count": 26,
      "outputs": [
        {
          "output_type": "error",
          "ename": "IndexError",
          "evalue": "string index out of range",
          "traceback": [
            "\u001b[0;31m---------------------------------------------------------------------------\u001b[0m",
            "\u001b[0;31mIndexError\u001b[0m                                Traceback (most recent call last)",
            "\u001b[0;32m<ipython-input-26-deda8b2e7985>\u001b[0m in \u001b[0;36m<cell line: 3>\u001b[0;34m()\u001b[0m\n\u001b[1;32m      1\u001b[0m \u001b[0;31m# Визуализация структуры RNA\u001b[0m\u001b[0;34m\u001b[0m\u001b[0;34m\u001b[0m\u001b[0m\n\u001b[1;32m      2\u001b[0m \u001b[0mfig\u001b[0m\u001b[0;34m,\u001b[0m \u001b[0max\u001b[0m \u001b[0;34m=\u001b[0m \u001b[0mplt\u001b[0m\u001b[0;34m.\u001b[0m\u001b[0msubplots\u001b[0m\u001b[0;34m(\u001b[0m\u001b[0;34m)\u001b[0m\u001b[0;34m\u001b[0m\u001b[0;34m\u001b[0m\u001b[0m\n\u001b[0;32m----> 3\u001b[0;31m \u001b[0mfvm\u001b[0m\u001b[0;34m.\u001b[0m\u001b[0mplot_rna\u001b[0m\u001b[0;34m(\u001b[0m\u001b[0mrna_structure\u001b[0m\u001b[0;34m,\u001b[0m \u001b[0mtext_kwargs\u001b[0m\u001b[0;34m=\u001b[0m\u001b[0;34m{\u001b[0m\u001b[0;34m\"fontsize\"\u001b[0m\u001b[0;34m:\u001b[0m \u001b[0;36m8\u001b[0m\u001b[0;34m}\u001b[0m\u001b[0;34m,\u001b[0m \u001b[0max\u001b[0m\u001b[0;34m=\u001b[0m\u001b[0max\u001b[0m\u001b[0;34m)\u001b[0m\u001b[0;34m\u001b[0m\u001b[0;34m\u001b[0m\u001b[0m\n\u001b[0m\u001b[1;32m      4\u001b[0m \u001b[0mplt\u001b[0m\u001b[0;34m.\u001b[0m\u001b[0mshow\u001b[0m\u001b[0;34m(\u001b[0m\u001b[0;34m)\u001b[0m\u001b[0;34m\u001b[0m\u001b[0;34m\u001b[0m\u001b[0m\n",
            "\u001b[0;32m/usr/local/lib/python3.10/dist-packages/forgi/visual/mplotlib.py\u001b[0m in \u001b[0;36mplot_rna\u001b[0;34m(cg, ax, offset, text_kwargs, backbone_kwargs, basepair_kwargs, color, lighten, annotations)\u001b[0m\n\u001b[1;32m    300\u001b[0m     \u001b[0;32mfor\u001b[0m \u001b[0mi\u001b[0m\u001b[0;34m,\u001b[0m \u001b[0mcoord\u001b[0m \u001b[0;32min\u001b[0m \u001b[0menumerate\u001b[0m\u001b[0;34m(\u001b[0m\u001b[0mcoords\u001b[0m\u001b[0;34m)\u001b[0m\u001b[0;34m:\u001b[0m\u001b[0;34m\u001b[0m\u001b[0;34m\u001b[0m\u001b[0m\n\u001b[1;32m    301\u001b[0m         \u001b[0;32mif\u001b[0m \u001b[0mcolor\u001b[0m\u001b[0;34m:\u001b[0m\u001b[0;34m\u001b[0m\u001b[0;34m\u001b[0m\u001b[0m\n\u001b[0;32m--> 302\u001b[0;31m             \u001b[0mc\u001b[0m \u001b[0;34m=\u001b[0m \u001b[0mel_to_color\u001b[0m\u001b[0;34m[\u001b[0m\u001b[0mel_string\u001b[0m\u001b[0;34m[\u001b[0m\u001b[0mi\u001b[0m\u001b[0;34m]\u001b[0m\u001b[0;34m]\u001b[0m\u001b[0;34m\u001b[0m\u001b[0;34m\u001b[0m\u001b[0m\n\u001b[0m\u001b[1;32m    303\u001b[0m             \u001b[0mh\u001b[0m\u001b[0;34m,\u001b[0m\u001b[0ml\u001b[0m\u001b[0;34m,\u001b[0m\u001b[0ms\u001b[0m \u001b[0;34m=\u001b[0m \u001b[0mcolorsys\u001b[0m\u001b[0;34m.\u001b[0m\u001b[0mrgb_to_hls\u001b[0m\u001b[0;34m(\u001b[0m\u001b[0;34m*\u001b[0m\u001b[0mmc\u001b[0m\u001b[0;34m.\u001b[0m\u001b[0mto_rgb\u001b[0m\u001b[0;34m(\u001b[0m\u001b[0mc\u001b[0m\u001b[0;34m)\u001b[0m\u001b[0;34m)\u001b[0m\u001b[0;34m\u001b[0m\u001b[0;34m\u001b[0m\u001b[0m\n\u001b[1;32m    304\u001b[0m             \u001b[0;32mif\u001b[0m \u001b[0mlighten\u001b[0m\u001b[0;34m>\u001b[0m\u001b[0;36m0\u001b[0m\u001b[0;34m:\u001b[0m\u001b[0;34m\u001b[0m\u001b[0;34m\u001b[0m\u001b[0m\n",
            "\u001b[0;31mIndexError\u001b[0m: string index out of range"
          ]
        },
        {
          "output_type": "display_data",
          "data": {
            "text/plain": [
              "<Figure size 640x480 with 1 Axes>"
            ],
            "image/png": "[encoded data removed]"
          },
          "metadata": {}
        }
      ]
    },
    {
      "cell_type": "code",
      "source": [
        "# Получение информации о структуре RNA в формате dot-bracket\n",
        "dotbracket_string = rna_structure.to_dotbracket_string()\n",
        "print(\"Dot-bracket string:\")\n",
        "print(dotbracket_string)"
      ],
      "metadata": {
        "colab": {
          "base_uri": "https://localhost:8080/"
        },
        "id": "RoRdH5J3Xeqj",
        "outputId": "c4271b14-59d3-4f67-f21d-5240d7f8c1c5"
      },
      "execution_count": 27,
      "outputs": [
        {
          "output_type": "stream",
          "name": "stdout",
          "text": [
            "Dot-bracket string:\n",
            "(((((((((.&))))))))).\n"
          ]
        }
      ]
    },
    {
      "cell_type": "code",
      "source": [
        "# Получение информации о структуре RNA в элементном формате\n",
        "element_string = rna_structure.to_element_string()\n",
        "print(\"Element string:\")\n",
        "print(element_string)"
      ],
      "metadata": {
        "colab": {
          "base_uri": "https://localhost:8080/"
        },
        "id": "MLot_vHDXgj2",
        "outputId": "96069616-03c1-4a31-9f96-8fb90f1df1c5"
      },
      "execution_count": 28,
      "outputs": [
        {
          "output_type": "stream",
          "name": "stdout",
          "text": [
            "Element string:\n",
            "ssssssssstssssssssst\n"
          ]
        }
      ]
    },
    {
      "cell_type": "markdown",
      "source": [
        "## Раздел 6: Requests + NCBI\n",
        "\n",
        "Requests - это библиотека Python для выполнения HTTP-запросов.\n",
        "\n",
        "В этом разделе мы изучим, как использовать Requests для взаимодействия с API NCBI и получения биологических данных из внешних источников. Мы рассмотрим пример запроса к API NCBI для получения информации по ключевому слову и научимся обрабатывать полученные данные.\n",
        "\n"
      ],
      "metadata": {
        "id": "iUqbUwvvJPhh"
      }
    },
    {
      "cell_type": "code",
      "source": [
        "import requests\n",
        "from xml.etree import ElementTree"
      ],
      "metadata": {
        "id": "fN9v6DNQMFAs"
      },
      "execution_count": 29,
      "outputs": []
    },
    {
      "cell_type": "code",
      "source": [
        "# Шаг 1: Поиск последовательностей в GenBank по ключевому слову\n",
        "query = \"Homo sapiens COX1\"\n",
        "max_results = 1\n",
        "\n",
        "search_url = \"https://eutils.ncbi.nlm.nih.gov/entrez/eutils/esearch.fcgi\"\n",
        "search_params = {\n",
        "    \"db\": \"nucleotide\",\n",
        "    \"term\": query,\n",
        "    \"retmax\": max_results,\n",
        "    \"retmode\": \"xml\"\n",
        "}\n",
        "\n",
        "search_response = requests.get(search_url, params=search_params)\n",
        "search_response.raise_for_status()"
      ],
      "metadata": {
        "id": "PBbRPDEDJSSU"
      },
      "execution_count": 30,
      "outputs": []
    },
    {
      "cell_type": "code",
      "source": [
        "# Парсинг XML-ответа для извлечения ID\n",
        "search_tree = ElementTree.fromstring(search_response.content)\n",
        "id_list = [id_elem.text for id_elem in search_tree.findall(\".//Id\")]\n",
        "\n",
        "if not id_list:\n",
        "    print(\"No sequences found.\")\n",
        "else:\n",
        "    sequence_id = id_list[0]\n",
        "    print(f\"Found sequence ID: {sequence_id}\")"
      ],
      "metadata": {
        "colab": {
          "base_uri": "https://localhost:8080/"
        },
        "id": "ZbQUAFxXljwZ",
        "outputId": "1e1dc9d6-c323-4cf5-8748-8ebe22ff7911"
      },
      "execution_count": 31,
      "outputs": [
        {
          "output_type": "stream",
          "name": "stdout",
          "text": [
            "Found sequence ID: 2754160704\n"
          ]
        }
      ]
    },
    {
      "cell_type": "code",
      "source": [
        "# Шаг 2: Запрос данных по полученному ID в формате GenBank\n",
        "fetch_url = \"https://eutils.ncbi.nlm.nih.gov/entrez/eutils/efetch.fcgi\"\n",
        "fetch_params = {\n",
        "        \"db\": \"nucleotide\",\n",
        "        \"id\": sequence_id,\n",
        "        \"rettype\": \"gb\",\n",
        "        \"retmode\": \"text\"\n",
        "    }\n",
        "\n",
        "fetch_response = requests.get(fetch_url, params=fetch_params)\n",
        "fetch_response.raise_for_status()\n",
        "\n",
        "# Вывод полученной информации\n",
        "print(fetch_response.text)"
      ],
      "metadata": {
        "colab": {
          "base_uri": "https://localhost:8080/"
        },
        "id": "o_xTKrgwllaD",
        "outputId": "43fddf5d-c6ed-4cb8-a20f-d56352ad748c"
      },
      "execution_count": 32,
      "outputs": [
        {
          "output_type": "stream",
          "name": "stdout",
          "text": [
            "LOCUS       PP989442                 398 bp    DNA     linear   INV 11-JUL-2024\n",
            "DEFINITION  Thelazia callipaeda isolate TcHmn cytochrome c oxidase subunit I\n",
            "            (COX1) gene, partial cds; mitochondrial.\n",
            "ACCESSION   PP989442\n",
            "VERSION     PP989442.1\n",
            "KEYWORDS    .\n",
            "SOURCE      mitochondrion Thelazia callipaeda (thelaziosis nematode)\n",
            "  ORGANISM  Thelazia callipaeda\n",
            "            Eukaryota; Metazoa; Ecdysozoa; Nematoda; Chromadorea; Rhabditida;\n",
            "            Spirurina; Spiruromorpha; Thelazioidea; Thelaziidae; Thelazia.\n",
            "REFERENCE   1  (bases 1 to 398)\n",
            "  AUTHORS   Kuru,N., Celik,F., Cayhan,G., Bagbudar,S., Korkmaz,M. and Simsek,S.\n",
            "  TITLE     First occurrence and molecular description of human Thelazia\n",
            "            callipaeda infection eastern Tuerkiye\n",
            "  JOURNAL   Unpublished\n",
            "REFERENCE   2  (bases 1 to 398)\n",
            "  AUTHORS   Kuru,N., Celik,F., Cayhan,G., Bagbudar,S., Korkmaz,M. and Simsek,S.\n",
            "  TITLE     Direct Submission\n",
            "  JOURNAL   Submitted (06-JUL-2024) Department of Parasitology, Faculty of\n",
            "            Veterinary Medicine, Faculty of Veterinary Medicine, University of\n",
            "            Firat, University of Firat, Elazig 23119, Turkey\n",
            "COMMENT     ##Assembly-Data-START##\n",
            "            Sequencing Technology :: Sanger dideoxy sequencing\n",
            "            ##Assembly-Data-END##\n",
            "FEATURES             Location/Qualifiers\n",
            "     source          1..398\n",
            "                     /organism=\"Thelazia callipaeda\"\n",
            "                     /organelle=\"mitochondrion\"\n",
            "                     /mol_type=\"genomic DNA\"\n",
            "                     /isolate=\"TcHmn\"\n",
            "                     /host=\"Homo sapiens\"\n",
            "                     /db_xref=\"taxon:103827\"\n",
            "     gene            <1..>398\n",
            "                     /gene=\"COX1\"\n",
            "     CDS             <1..>398\n",
            "                     /gene=\"COX1\"\n",
            "                     /codon_start=3\n",
            "                     /transl_table=5\n",
            "                     /product=\"cytochrome c oxidase subunit I\"\n",
            "                     /protein_id=\"XCJ76026.1\"\n",
            "                     /translation=\"LPAFGIISEAVLFLTDKERLFGQVSMTFASIWIAILGTSVWGHH\n",
            "                     MYTAGLDIDTRTYFSAATMIIAVPSAVKVFNWLCTFFGSHQKIQPLLCWTYSFIILFT\n",
            "                     LGGLSGIVLSAASLDIVLHDTYYVVAHFHY\"\n",
            "ORIGIN      \n",
            "        1 ttttgccggc ttttggtatt atcagggagg cagttttgtt tttgactgat aaggaacgtt\n",
            "       61 tatttggtca ggttagtatg acttttgctt cgatttgaat tgctattctg ggaacttctg\n",
            "      121 tttgaggtca ccatatatat actgcaggtt tggatattga tactcgtact tattttaggg\n",
            "      181 ctgctacaat gattattgct gtccccagag cggtaaaggt ttttaattgg ttgtgtactt\n",
            "      241 tttttggttc tcatcaaaaa attcagcctt tgttgtgttg aacttacagt tttattattt\n",
            "      301 tatttacttt aggtggttta agcggtattg ttttgagagc agctagatta gatattgtgt\n",
            "      361 tacatgatac ttattatgtt gtggctcatt ttcattat\n",
            "//\n",
            "\n",
            "\n"
          ]
        }
      ]
    },
    {
      "cell_type": "code",
      "source": [
        "from io import StringIO\n",
        "# Шаг 3: Обработка данных и извлечение последовательности генома\n",
        "genbank_data = fetch_response.text\n",
        "genbank_io = StringIO(genbank_data)\n",
        "record = SeqIO.read(genbank_io, \"genbank\") # Используется функция SeqIO.read из библиотеки BioPython\n",
        "\n",
        "# Извлечение и вывод последовательности генома\n",
        "genome_sequence = record.seq\n",
        "print(\"Genome Sequence:\")\n",
        "print(genome_sequence)"
      ],
      "metadata": {
        "colab": {
          "base_uri": "https://localhost:8080/"
        },
        "id": "ZdJRygeQmJTI",
        "outputId": "7b079ef0-b865-4eb2-89b9-ceea4b809b22"
      },
      "execution_count": 33,
      "outputs": [
        {
          "output_type": "stream",
          "name": "stdout",
          "text": [
            "Genome Sequence:\n",
            "TTTTGCCGGCTTTTGGTATTATCAGGGAGGCAGTTTTGTTTTTGACTGATAAGGAACGTTTATTTGGTCAGGTTAGTATGACTTTTGCTTCGATTTGAATTGCTATTCTGGGAACTTCTGTTTGAGGTCACCATATATATACTGCAGGTTTGGATATTGATACTCGTACTTATTTTAGGGCTGCTACAATGATTATTGCTGTCCCCAGAGCGGTAAAGGTTTTTAATTGGTTGTGTACTTTTTTTGGTTCTCATCAAAAAATTCAGCCTTTGTTGTGTTGAACTTACAGTTTTATTATTTTATTTACTTTAGGTGGTTTAAGCGGTATTGTTTTGAGAGCAGCTAGATTAGATATTGTGTTACATGATACTTATTATGTTGTGGCTCATTTTCATTAT\n"
          ]
        }
      ]
    },
    {
      "cell_type": "markdown",
      "source": [
        "## Раздел 7: PyBioMed + repDNA\n",
        "\n",
        "PyBioMed и repDNA - это библиотеки для вычисления дескрипторов биологических последовательностей.\n",
        "\n",
        "В этом разделе мы изучим, как использовать PyBioMed для анализа белковых последовательностей и вычисления различных дескрипторов с помощью метода ***GetProtein()***. Мы также рассмотрим библиотеку repDNA для вычисления псевдодинуклеотидных композиционных дескрипторов (PseDNC) для ДНК-последовательностей с помощью метода ***PseDNC()***. Эти инструменты помогут нам проводить детальный анализ биологических последовательностей и их характеристик."
      ],
      "metadata": {
        "id": "W9JMg51vJS0h"
      }
    },
    {
      "cell_type": "code",
      "source": [
        "from PyBioMed.Pyprotein import PyProtein\n",
        "from repDNA.psenac import PseDNC\n",
        "from repDNA.nac import Kmer\n",
        "from repDNA.ac import TAC"
      ],
      "metadata": {
        "id": "JFWarMx6KYq-"
      },
      "execution_count": 1,
      "outputs": []
    },
    {
      "cell_type": "code",
      "source": [
        "# Расчет дескрипторов для белковой последовательности с использованием PyBioMed\n",
        "protein_sequence = \"AGTACACTGGT\"\n",
        "protein_descriptor = PyProtein(protein_sequence)\n",
        "print(protein_descriptor.GetAAComp())  # Аминокислотный состав"
      ],
      "metadata": {
        "colab": {
          "base_uri": "https://localhost:8080/"
        },
        "id": "ObfwfCzsL-zh",
        "outputId": "90586d42-7907-4c0e-8848-7487f1f95bbc"
      },
      "execution_count": 35,
      "outputs": [
        {
          "output_type": "stream",
          "name": "stdout",
          "text": [
            "{'A': 27.273, 'R': 0.0, 'N': 0.0, 'D': 0.0, 'C': 18.182, 'E': 0.0, 'Q': 0.0, 'G': 27.273, 'H': 0.0, 'I': 0.0, 'L': 0.0, 'K': 0.0, 'M': 0.0, 'F': 0.0, 'P': 0.0, 'S': 0.0, 'T': 27.273, 'W': 0.0, 'Y': 0.0, 'V': 0.0}\n"
          ]
        }
      ]
    },
    {
      "cell_type": "code",
      "source": [
        "# Расчет дескрипторов для ДНК-последовательности с использованием repDNA\n",
        "dna_sequence = [\"AGTACACTGGT\"]\n",
        "psednc = PseDNC(lamada=2, w=0.5)\n",
        "descriptor = psednc.make_psednc_vec(dna_sequence)\n",
        "print(descriptor)"
      ],
      "metadata": {
        "colab": {
          "base_uri": "https://localhost:8080/"
        },
        "id": "lPVrg9-iMBYk",
        "outputId": "eb535830-9825-4ffe-97e1-849ac99424b3"
      },
      "execution_count": 2,
      "outputs": [
        {
          "output_type": "stream",
          "name": "stdout",
          "text": [
            "[[0.0, 0.059, 0.029, 0.0, 0.029, 0.0, 0.0, 0.029, 0.0, 0.0, 0.029, 0.059, 0.029, 0.0, 0.029, 0.0, 0.4449, 0.2601]]\n"
          ]
        }
      ]
    },
    {
      "cell_type": "code",
      "source": [
        "# Вычисление дескрипторов нуклеотидного состава (например, K-mer)\n",
        "kmer = Kmer(k=2)\n",
        "kmer_descriptor = kmer.make_kmer_vec(dna_sequence)\n",
        "print(\"K-mer Descriptor:\", kmer_descriptor)"
      ],
      "metadata": {
        "colab": {
          "base_uri": "https://localhost:8080/"
        },
        "id": "NBxPRBGxdg_r",
        "outputId": "b107c0a5-66a2-40d8-b80a-126ae8534796"
      },
      "execution_count": 3,
      "outputs": [
        {
          "output_type": "stream",
          "name": "stdout",
          "text": [
            "K-mer Descriptor: [[0, 2, 1, 0, 1, 0, 0, 1, 0, 0, 1, 2, 1, 0, 1, 0]]\n"
          ]
        }
      ]
    },
    {
      "cell_type": "code",
      "source": [
        "# Вычисление дескрипторов автокорреляции (например, TAC)\n",
        "tac = TAC(lag=2)\n",
        "tac_descriptor = tac.make_tac_vec(dna_sequence)\n",
        "print(\"TAC Descriptor:\", tac_descriptor)"
      ],
      "metadata": {
        "colab": {
          "base_uri": "https://localhost:8080/"
        },
        "id": "fApysgCCdke6",
        "outputId": "5ae8cf00-a32b-42fa-cb61-495715a64e01"
      },
      "execution_count": 4,
      "outputs": [
        {
          "output_type": "stream",
          "name": "stdout",
          "text": [
            "TAC Descriptor: [[]]\n"
          ]
        }
      ]
    },
    {
      "cell_type": "code",
      "source": [
        "!git clone https://github.com/liufule12/repDNA.git"
      ],
      "metadata": {
        "colab": {
          "base_uri": "https://localhost:8080/"
        },
        "id": "HxsNt29beSEz",
        "outputId": "e8abdb05-4df6-4c2c-86b2-6a3ea3d011e8"
      },
      "execution_count": 6,
      "outputs": [
        {
          "output_type": "stream",
          "name": "stdout",
          "text": [
            "Cloning into 'repDNA'...\n",
            "remote: Enumerating objects: 868, done.\u001b[K\n",
            "remote: Total 868 (delta 0), reused 0 (delta 0), pack-reused 868\u001b[K\n",
            "Receiving objects: 100% (868/868), 13.48 MiB | 14.04 MiB/s, done.\n",
            "Resolving deltas: 100% (486/486), done.\n"
          ]
        }
      ]
    },
    {
      "cell_type": "code",
      "source": [
        "%cd repDNA/repDNA\n",
        "\n",
        "!ls\n",
        "# Исправления для модуля psenac\n",
        "!sed -i 's/from psenacutil/from .psenacutil/' psenac.py\n",
        "!sed -i 's/from util/from .util/' psenac.py\n",
        "!sed -i 's/from util/from .util/' nacutil.py\n",
        "!sed -i 's/from util/from .util/' psenacutil.py\n",
        "!sed -i 's/from nacutil/from .nacutil/' psenacutil.py\n",
        "\n",
        "# Исправления для модуля nac\n",
        "!sed -i 's/from nacutil/from .nacutil/' nac.py\n",
        "!sed -i 's/from util/from .util/' nac.py\n",
        "\n",
        "# Исправления для модуля ac\n",
        "!sed -i 's/from util/from .util/' ac.py\n",
        "!sed -i 's/from acutil/from .acutil/' ac.py\n",
        "!sed -i 's/from psenacutil/from .psenacutil/' util.py\n",
        "\n",
        "%cd ..\n",
        "\n",
        "!pip install ."
      ],
      "metadata": {
        "colab": {
          "base_uri": "https://localhost:8080/",
          "height": 428
        },
        "id": "dnZ7ZpjjxpsD",
        "outputId": "e69851b9-bea5-43ab-b9d3-4e2dc4070c8c"
      },
      "execution_count": 5,
      "outputs": [
        {
          "output_type": "stream",
          "name": "stdout",
          "text": [
            "/content/repDNA/repDNA\n",
            "ac.py\t   data  example      nac.py\t  psenac.py\t test\n",
            "acutil.py  doc\t __init__.py  nacutil.py  psenacutil.py  util.py\n",
            "/content/repDNA\n",
            "Processing /content/repDNA\n",
            "  Preparing metadata (setup.py) ... \u001b[?25l\u001b[?25hdone\n",
            "Building wheels for collected packages: repDNA\n",
            "  Building wheel for repDNA (setup.py) ... \u001b[?25l\u001b[?25hdone\n",
            "  Created wheel for repDNA: filename=repDNA-1.1.4-py3-none-any.whl size=1542086 sha256=919c879f4d32f7d566dcc7015bc8d8cf9129f216cefec998b0af497f0b104dd8\n",
            "  Stored in directory: /tmp/pip-ephem-wheel-cache-ekgb4qn3/wheels/f9/79/fa/1cfa8ecde2b83f4b56fcd10773b6b3d280d1a6d409b9090b13\n",
            "Successfully built repDNA\n",
            "Installing collected packages: repDNA\n",
            "  Attempting uninstall: repDNA\n",
            "    Found existing installation: repDNA 1.1.4\n",
            "    Uninstalling repDNA-1.1.4:\n",
            "      Successfully uninstalled repDNA-1.1.4\n",
            "Successfully installed repDNA-1.1.4\n"
          ]
        },
        {
          "output_type": "display_data",
          "data": {
            "application/vnd.colab-display-data+json": {
              "pip_warning": {
                "packages": [
                  "repDNA"
                ]
              },
              "id": "519389b280274c89aeb28d3c33dd0bf2"
            }
          },
          "metadata": {}
        }
      ]
    },
    {
      "cell_type": "code",
      "source": [],
      "metadata": {
        "id": "82NSeFNS2o6i"
      },
      "execution_count": null,
      "outputs": []
    }
  ]
}